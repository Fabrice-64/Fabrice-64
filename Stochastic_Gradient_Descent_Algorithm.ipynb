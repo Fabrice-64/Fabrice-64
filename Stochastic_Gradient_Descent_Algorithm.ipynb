{
  "nbformat": 4,
  "nbformat_minor": 0,
  "metadata": {
    "colab": {
      "provenance": [],
      "authorship_tag": "ABX9TyNfLJekyjgEW1KF5D0l1Ch5",
      "include_colab_link": true
    },
    "kernelspec": {
      "name": "python3",
      "display_name": "Python 3"
    },
    "language_info": {
      "name": "python"
    }
  },
  "cells": [
    {
      "cell_type": "markdown",
      "metadata": {
        "id": "view-in-github",
        "colab_type": "text"
      },
      "source": [
        "<a href=\"https://colab.research.google.com/github/Fabrice-64/Fabrice-64/blob/main/Stochastic_Gradient_Descent_Algorithm.ipynb\" target=\"_parent\"><img src=\"https://colab.research.google.com/assets/colab-badge.svg\" alt=\"Open In Colab\"/></a>"
      ]
    },
    {
      "cell_type": "code",
      "execution_count": null,
      "metadata": {
        "id": "SVJBhN33q8dY"
      },
      "outputs": [],
      "source": [
        "import numpy as np\n",
        "import matplotlib.pyplot as plt\n"
      ]
    },
    {
      "cell_type": "code",
      "source": [
        "def gradient_descent(\n",
        "    gradient, start, learn_rate, n_iter=50, tolerance=1e-06):\n",
        "  points = list()\n",
        "  vector = start\n",
        "  for index in range(n_iter):\n",
        "    diff = -learn_rate * gradient(vector)\n",
        "    if np.all(np.abs(diff) <= tolerance):\n",
        "      break\n",
        "    vector += diff\n",
        "    points.append((index, vector))\n",
        "  return points"
      ],
      "metadata": {
        "id": "ttbqs9dSrBee"
      },
      "execution_count": null,
      "outputs": []
    },
    {
      "cell_type": "code",
      "source": [
        "results = gradient_descent(\n",
        "    gradient=lambda v: 2*v, start=10.0, learn_rate=0.2)"
      ],
      "metadata": {
        "id": "FsbPEXD6AKFR"
      },
      "execution_count": null,
      "outputs": []
    },
    {
      "cell_type": "code",
      "source": [
        "vector_values = [x for (x, _) in results]\n",
        "iterations = [y for (_, y) in results]\n",
        "\n",
        "plt.scatter(vector_values, iterations)\n",
        "plt.xlim([-1, 50])\n",
        "plt.ylim([-1, 10])\n",
        "plt.ylabel(\"Vector\")\n",
        "plt.xlabel(\"Steps\")\n",
        "\n",
        "plt.show()"
      ],
      "metadata": {
        "colab": {
          "base_uri": "https://localhost:8080/",
          "height": 455
        },
        "id": "FSbPuuNJAWVW",
        "outputId": "6f7e5c23-7126-438d-c9dd-e82b72107346"
      },
      "execution_count": null,
      "outputs": [
        {
          "output_type": "display_data",
          "data": {
            "text/plain": [
              "<Figure size 640x480 with 1 Axes>"
            ],
            "image/png": "[encoded data removed]"
          },
          "metadata": {}
        }
      ]
    },
    {
      "cell_type": "code",
      "source": [
        "# Use a fonction with a saddle"
      ],
      "metadata": {
        "id": "LhOMobw14TIG"
      },
      "execution_count": null,
      "outputs": []
    }
  ]
}